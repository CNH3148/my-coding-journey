{
 "cells": [
  {
   "cell_type": "code",
   "execution_count": 21,
   "metadata": {},
   "outputs": [],
   "source": [
    "%matplotlib inline\n",
    "import numpy as np\n",
    "import matplotlib.pyplot as plt\n",
    "import pandas as pd"
   ]
  },
  {
   "cell_type": "code",
   "execution_count": 22,
   "metadata": {},
   "outputs": [],
   "source": [
    "#Huh-7 20nm 2023.03.13\n",
    "samples_name_PBS = ['PBS', '0.3SDS+299.7PBS', '1.5StockII+298.5PBS', '3StockII+297PBS', '15StockII+285PBS', '30StockII+270PBS', '30StockII+270PBS', 'StockII']\n",
    "samples_name_medium = ['Medium', '0.3SDS+299.7Medium', '0.3StockII+299.7Medium', '1.5StockII+298.5PBS', '3StockII+297Medium', '15StockII+285Medium', '30StockII+270Medium', 'StockI']\n",
    "repeat_num = ['rep1', 'rep2', 'rep3']\n",
    "data1_PBS = [[182.8, 174.2, 181.5], \n",
    "           [169.3, 182.1, 171.0],\n",
    "           [169.4, 181.3, 182.0],\n",
    "           [178.0, 172.5, 174.1],\n",
    "           [189.3, 189.5, 178.4],\n",
    "           [158.8, 173.9, 168.0],\n",
    "           [157.3, 157.7, 164.3],\n",
    "           [157.3, 156.3, 157.2]]\n",
    "data1_medium = [[443.7, 397.7, 400.5],\n",
    "           [456.0, 393.2, 472.9],\n",
    "           [411.5, 384.4, 706.0],\n",
    "           [405.6, 454.1, 444.7],\n",
    "           [167.1, 176.4, 170.2],\n",
    "           [191.2, 180.3, 179.5],\n",
    "           [174.9, 176.0, 180.2],\n",
    "           [171.9, 177.7, 173.9]]"
   ]
  },
  {
   "cell_type": "code",
   "execution_count": 23,
   "metadata": {},
   "outputs": [],
   "source": [
    "df1_PBS_20nm_0313 = pd.DataFrame(index=samples_name_PBS, columns=repeat_num, data=data1_PBS)\n",
    "df1_medium_20nm_0313 = pd.DataFrame(index=samples_name_medium, columns=repeat_num, data=data1_medium)\n"
   ]
  },
  {
   "cell_type": "code",
   "execution_count": 24,
   "metadata": {},
   "outputs": [
    {
     "name": "stdout",
     "output_type": "stream",
     "text": [
      "                      rep1   rep2   rep3\n",
      "PBS                  182.8  174.2  181.5\n",
      "0.3SDS+299.7PBS      169.3  182.1  171.0\n",
      "1.5StockII+298.5PBS  169.4  181.3  182.0\n",
      "3StockII+297PBS      178.0  172.5  174.1\n",
      "15StockII+285PBS     189.3  189.5  178.4\n",
      "30StockII+270PBS     158.8  173.9  168.0\n",
      "30StockII+270PBS     157.3  157.7  164.3\n",
      "StockII              157.3  156.3  157.2\n",
      "                         rep1   rep2   rep3\n",
      "Medium                  443.7  397.7  400.5\n",
      "0.3SDS+299.7Medium      456.0  393.2  472.9\n",
      "0.3StockII+299.7Medium  411.5  384.4  706.0\n",
      "1.5StockII+298.5PBS     405.6  454.1  444.7\n",
      "3StockII+297Medium      167.1  176.4  170.2\n",
      "15StockII+285Medium     191.2  180.3  179.5\n",
      "30StockII+270Medium     174.9  176.0  180.2\n",
      "StockI                  171.9  177.7  173.9\n"
     ]
    }
   ],
   "source": [
    "print(df1_PBS_20nm_0313)\n",
    "print(df1_medium_20nm_0313)"
   ]
  },
  {
   "cell_type": "code",
   "execution_count": null,
   "metadata": {},
   "outputs": [],
   "source": []
  }
 ],
 "metadata": {
  "kernelspec": {
   "display_name": "DS",
   "language": "python",
   "name": "python3"
  },
  "language_info": {
   "codemirror_mode": {
    "name": "ipython",
    "version": 3
   },
   "file_extension": ".py",
   "mimetype": "text/x-python",
   "name": "python",
   "nbconvert_exporter": "python",
   "pygments_lexer": "ipython3",
   "version": "3.11.5"
  },
  "orig_nbformat": 4
 },
 "nbformat": 4,
 "nbformat_minor": 2
}
