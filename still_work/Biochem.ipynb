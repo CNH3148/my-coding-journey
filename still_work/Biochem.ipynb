{
 "cells": [
  {
   "cell_type": "code",
   "execution_count": 1,
   "metadata": {},
   "outputs": [],
   "source": [
    "%matplotlib inline\n",
    "import numpy as np \n",
    "import matplotlib.pyplot as plt\n",
    "import pandas as pd"
   ]
  },
  {
   "cell_type": "code",
   "execution_count": 5,
   "metadata": {},
   "outputs": [
    {
     "name": "stdout",
     "output_type": "stream",
     "text": [
      "   BSA_濃度        absorbance\n",
      "0    0.02     [0.04, 0.299]\n",
      "1    0.04  [0.1509, 0.0425]\n",
      "2    0.08  [0.1475, 0.1631]\n",
      "3    0.12  [0.2048, 0.3168]\n",
      "4    0.20  [0.5687, 0.5709]\n"
     ]
    }
   ],
   "source": [
    "standards = pd.DataFrame(\n",
    "    {\"BSA_濃度\" : [0.02, 0.04, 0.08, 0.12, 0.2],\n",
    "     \"absorbance\" : [[0.04, 0.299], [0.1509, .0425], [.1475, .1631], [.2048, .3168], [.5687, .5709]]}\n",
    ")\n",
    "print(standards)"
   ]
  }
 ],
 "metadata": {
  "kernelspec": {
   "display_name": "DS",
   "language": "python",
   "name": "python3"
  },
  "language_info": {
   "codemirror_mode": {
    "name": "ipython",
    "version": 3
   },
   "file_extension": ".py",
   "mimetype": "text/x-python",
   "name": "python",
   "nbconvert_exporter": "python",
   "pygments_lexer": "ipython3",
   "version": "3.11.6"
  },
  "orig_nbformat": 4
 },
 "nbformat": 4,
 "nbformat_minor": 2
}
